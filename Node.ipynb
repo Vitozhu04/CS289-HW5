{
 "cells": [
  {
   "cell_type": "code",
   "execution_count": 1,
   "metadata": {},
   "outputs": [],
   "source": [
    "import scipy\n",
    "from scipy import io\n",
    "import numpy as np\n",
    "import pdb #  pdb.set_trace()\n",
    "\n",
    "class Node:\n",
    "    def __init__(self, depth, split_rule, left_node, right_node, label = None):\n",
    "        # Split on feature 2, with threshold 3\n",
    "        self.depth = depth\n",
    "        self.split_rule = split_rule\n",
    "        self.left_node = left_node\n",
    "        self.right_node = right_node\n",
    "        self.label = label\n",
    "\n",
    "    def next_node(self, sample):\n",
    "        # leaf node value\n",
    "        if self.label is not None:\n",
    "            return self.label\n",
    "\n",
    "        # pdb.set_trace()\n",
    "        sample_feature_value = sample[self.split_rule[0]]\n",
    "        if sample_feature_value < self.split_rule[1]:\n",
    "            return self.left_node\n",
    "        else:\n",
    "            return self.right_node"
   ]
  },
  {
   "cell_type": "code",
   "execution_count": null,
   "metadata": {},
   "outputs": [],
   "source": []
  }
 ],
 "metadata": {
  "kernelspec": {
   "display_name": "Python 3",
   "language": "python",
   "name": "python3"
  },
  "language_info": {
   "codemirror_mode": {
    "name": "ipython",
    "version": 3
   },
   "file_extension": ".py",
   "mimetype": "text/x-python",
   "name": "python",
   "nbconvert_exporter": "python",
   "pygments_lexer": "ipython3",
   "version": "3.5.5"
  }
 },
 "nbformat": 4,
 "nbformat_minor": 2
}

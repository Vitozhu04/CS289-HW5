{
 "cells": [
  {
   "cell_type": "code",
   "execution_count": 12,
   "metadata": {},
   "outputs": [],
   "source": [
    "import math\n",
    "import random\n",
    "import numpy as np\n",
    "from collections import defaultdict, OrderedDict\n",
    "import pdb\n",
    "from collections import Counter\n",
    "from numpy import genfromtxt\n",
    "import scipy.io\n",
    "from scipy import stats\n",
    "\n",
    "import random\n",
    "import Ipynb_importer\n",
    "from node import Node\n",
    "import math\n",
    "import random\n",
    "import numpy as np\n",
    "from collections import defaultdict, OrderedDict\n",
    "import pdb\n",
    "import pandas as pd"
   ]
  },
  {
   "cell_type": "code",
   "execution_count": 13,
   "metadata": {},
   "outputs": [],
   "source": [
    "import numpy as np\n",
    "\n",
    "class DecisionTree:\n",
    "    def __init__(self, root=None):\n",
    "        self.root = root\n",
    "        \n",
    "    def entropy(self, C, D, b,a): \n",
    "        p = b - C\n",
    "        q = a - D\n",
    "        count = -(self.half_entropy(C, D) + self.half_entropy(D, C) \n",
    "                 + self.half_entropy(p, q) + self.half_entropy(q, p))/(b + a)\n",
    "        return count\n",
    "    \n",
    "    def segmenter(self, data, label, random_forest=False, mtry=1):\n",
    "        min_entropy= float('inf')\n",
    "\n",
    "        ft_select=None \n",
    "        thresh=None \n",
    "        spliti = 0\n",
    "        \n",
    "        if random_forest == True:\n",
    "            if mtry <= 0: \n",
    "                mtry = int(np.sqrt(len(data.columns) - 1))\n",
    "            elif mtry < 1: \n",
    "                mtry = int((len(data.columns) - 1) * mtry)\n",
    "            features = data.drop(label, 1).sample(mtry, axis=1)\n",
    "        else:\n",
    "            features = data.drop(label, 1).columns\n",
    "        for f in features:\n",
    "            sortedby_f = data.sort_values(f)\n",
    "            iterv = sortedby_f[f].__iter__()\n",
    "            iterl = sortedby_f[label].__iter__()\n",
    "            b, a = self.data_metric(sortedby_f, label)           \n",
    "            feature= next(iterv) \n",
    "            lbl=next(iterl)\n",
    "            i= 0\n",
    "            C=0\n",
    "            D=0\n",
    "            beta_iter = sortedby_f.drop_duplicates(subset=f, keep='first')[f].__iter__()\n",
    "            next(beta_iter)\n",
    "            for value in beta_iter:\n",
    "                try:\n",
    "                    while feature != value:\n",
    "                        i += 1\n",
    "                        if lbl == 0:C += 1\n",
    "                        else:D += 1\n",
    "                        feature= next(iterv)\n",
    "                        lbl = next(iterl)\n",
    "                except StopIteration: continue\n",
    "                entropy = self.entropy(C, D, b, a)\n",
    "                #Checking the entropy of the split\n",
    "                if entropy < min_entropy:\n",
    "                    min_entropy= entropy\n",
    "                    ft_select= f\n",
    "                    thresh=value\n",
    "                    spliti=i\n",
    "        if ft_select == None:\n",
    "            return None, None, ft_select, thresh\n",
    "        sorted_data = data.sort_values(ft_select)\n",
    "        left = sorted_data.iloc[:spliti]\n",
    "        right = sorted_data.iloc[spliti:]\n",
    "\n",
    "        return left, right, ft_select, thresh\n",
    "\n",
    "    def train(self, tr_data, label, depth, random_forest=False, ntree=0):\n",
    "        self.root = self.tree_leaf(tr_data, label, depth, random_forest, ntree)\n",
    "       \n",
    "    def tree_leaf(self,tr_data, label, depth, random_forest=False, ntree=0):\n",
    "            labels = tr_data[label].unique()\n",
    "            if depth == 0 or len(labels) == 1:\n",
    "                return Leaf(labels[0])\n",
    "\n",
    "            lefts, rights, ft_select, thresh = self.segmenter(tr_data, label, random_forest, ntree)\n",
    "            \n",
    "            if lefts is None:\n",
    "                lbl = tr_data[label].value_counts().argmax()\n",
    "                return Leaf(lbl)\n",
    "            left = self.tree_leaf(lefts, label, depth - 1, random_forest, ntree)\n",
    "            right = self.tree_leaf(rights, label, depth - 1, random_forest, ntree)\n",
    "            \n",
    "            return Node(left, right, ft_select, thresh)\n",
    "        \n",
    "    def predict(self, data, verbose=False):\n",
    "        return self.root.predict(data, verbose)\n",
    "\n",
    "    def data_metric(self, data, label):\n",
    "        b=0\n",
    "        a=0\n",
    "        a = sum(data[label])\n",
    "        b= len(data[label])-a\n",
    "        return b, a\n",
    "    \n",
    "    def half_entropy(self, s, t):\n",
    "        if s == 0: return 0\n",
    "        else: return s * np.log2(s / (s + t))"
   ]
  },
  {
   "cell_type": "code",
   "execution_count": null,
   "metadata": {},
   "outputs": [],
   "source": [
    "class RandomForest:\n",
    "    def __init__(self, ntree):\n",
    "        self.ntree = ntree\n",
    "        self.forest = []\n",
    "\n",
    "    def train(self, tr_data, label, depth=float('inf')):\n",
    "        bag_num = len(tr_data)\n",
    "        for i in range(int(self.ntree)):\n",
    "            t = DecisionTree()\n",
    "            t.train(tr_data.sample(bag_num, replace=True), label, depth, random_forest=True)\n",
    "            self.forest.append(t)\n",
    "\n",
    "    def predict(self, data):\n",
    "        pred=[]\n",
    "        vote0=0\n",
    "        vote1=0\n",
    "        #Prediction by Ensamble by maximum vote\n",
    "        for t in self.forest:\n",
    "            pred.append(t.predict(data))\n",
    "            if pred[-1] == 0: vote0 += 1\n",
    "            else: vote1 += 1\n",
    "        if vote0 > vote1: return 0\n",
    "        else: return 1\n"
   ]
  },
  {
   "cell_type": "code",
   "execution_count": null,
   "metadata": {},
   "outputs": [],
   "source": [
    "def train(data, label, model, depth=float('inf'), ntree=None):\n",
    "    randomed = data.sample(frac=1)\n",
    "    k = int(len(randomed)*0.2)\n",
    "    validate = randomed[:k]\n",
    "    trainset = randomed[k:]\n",
    "    if ntree == None:\n",
    "        m = model()\n",
    "    else:\n",
    "        m = model(ntree=ntree)\n",
    "    m.train(trainset, label, depth)\n",
    "    return m, trainset, validate\n",
    "    \n",
    "def accuracy(data, label, model, depth=float('inf'), n=None):\n",
    "    m, trainset,validation = train(data, label, model, depth, n)\n",
    "    tr_acc= 0 \n",
    "    v_acc = 0     \n",
    "    for _, p in trainset.iterrows():\n",
    "        if m.predict(p) == p[label]:\n",
    "            tr_acc += 1    \n",
    "    for _, p in validation.iterrows():\n",
    "        if m.predict(p) == p[label]:\n",
    "            v_acc += 1\n",
    "    t=tr_acc / len(trainset)\n",
    "    v=v_acc / len(validation)            \n",
    "    print('Training Accuracy: {}\\nValidation Accuracy: {}'.format(t, v))\n",
    "    return m, v"
   ]
  },
  {
   "cell_type": "code",
   "execution_count": 14,
   "metadata": {},
   "outputs": [],
   "source": [
    "class Node:\n",
    "    def __init__(self, left, right, split_f, split_val):\n",
    "        self.left=left\n",
    "        self.right = right\n",
    "        self.split_f = split_f\n",
    "        self.split_val = split_val\n",
    "    def status(self):\n",
    "        return self.split_f,self.split_val\n",
    "    def predict(self, data, verbose=False):\n",
    "        if data[self.split_f] < self.split_val:\n",
    "            if verbose:\n",
    "                print('Feature {}: {} < {} -> left'.format(self.split_f, \n",
    "                                                           data[self.split_f], self.split_val))\n",
    "            return self.left.predict(data, verbose)\n",
    "        if verbose:\n",
    "            print('Feature {}: {} >= {} -> right'.format(self.split_f, \n",
    "                                                       data[self.split_f], self.split_val))\n",
    "        return self.right.predict(data, verbose)\n",
    "    def is_leaf(self):\n",
    "        return False\n",
    "\n",
    "class Leaf:\n",
    "    def __init__(self, label):\n",
    "        self.label = label\n",
    "        \n",
    "    def is_leaf(self):\n",
    "        return True\n",
    "    def status(self):\n",
    "        return self.label\n",
    "    def predict(self, data, verbose=False):\n",
    "        if verbose:\n",
    "            print('Leaf Prediction:',self.label)\n",
    "        return self.label      "
   ]
  },
  {
   "cell_type": "code",
   "execution_count": 17,
   "metadata": {},
   "outputs": [],
   "source": [
    "spam_data= scipy.io.loadmat('datasets/spam-dataset/spam_data.mat')\n",
    "feature = ['pain', 'private', 'bank', 'money', 'drug', 'spam', \n",
    "           'prescription', 'creative', 'height','featured', 'differ',\n",
    "           'width', 'other', 'energy', 'business', 'message', 'volumes',\n",
    "           'revision', 'path', 'meter', 'memo', 'planning', 'pleased', \n",
    "           'record', 'out', ';', '$', '#', '!', '(', '[', '&','not_ham']     "
   ]
  },
  {
   "cell_type": "code",
   "execution_count": null,
   "metadata": {},
   "outputs": [],
   "source": [
    "data = np.concatenate((spam_data['training_data'],spam_data['training_labels'].T),axis=1)\n",
    "spam_train = pd.DataFrame(data=data, columns=feature, dtype='object')\n",
    "spam_test = pd.DataFrame(data=spam_data['test_data'], columns=feature[:-1], dtype='object')"
   ]
  },
  {
   "cell_type": "code",
   "execution_count": 18,
   "metadata": {},
   "outputs": [
    {
     "name": "stderr",
     "output_type": "stream",
     "text": [
      "C:\\Users\\zhuwe\\AppData\\Local\\Continuum\\anaconda3\\envs\\tensorflow\\lib\\site-packages\\ipykernel_launcher.py:77: FutureWarning: 'argmax' is deprecated, use 'idxmax' instead. The behavior of 'argmax'\n",
      "will be corrected to return the positional maximum in the future.\n",
      "Use 'series.values.argmax' to get the position of the maximum now.\n"
     ]
    },
    {
     "name": "stdout",
     "output_type": "stream",
     "text": [
      "Training Accuracy: 0.8864185596906718\n",
      "Validation Accuracy: 0.8268858800773694\n"
     ]
    }
   ],
   "source": [
    "accuracy_dt = accuracy(spam_train,'not_ham', DecisionTree)"
   ]
  },
  {
   "cell_type": "code",
   "execution_count": 19,
   "metadata": {},
   "outputs": [
    {
     "name": "stderr",
     "output_type": "stream",
     "text": [
      "C:\\Users\\zhuwe\\AppData\\Local\\Continuum\\anaconda3\\envs\\tensorflow\\lib\\site-packages\\ipykernel_launcher.py:77: FutureWarning: 'argmax' is deprecated, use 'idxmax' instead. The behavior of 'argmax'\n",
      "will be corrected to return the positional maximum in the future.\n",
      "Use 'series.values.argmax' to get the position of the maximum now.\n"
     ]
    },
    {
     "name": "stdout",
     "output_type": "stream",
     "text": [
      "Training Accuracy: 0.8583856935717739\n",
      "Validation Accuracy: 0.8433268858800773\n"
     ]
    }
   ],
   "source": [
    "accuracy_rf = accuracy(spam_train,'not_ham', RandomForest, 30,20)"
   ]
  },
  {
   "cell_type": "code",
   "execution_count": 35,
   "metadata": {},
   "outputs": [
    {
     "name": "stderr",
     "output_type": "stream",
     "text": [
      "C:\\Users\\zhuwe\\AppData\\Local\\Continuum\\anaconda3\\envs\\tensorflow\\lib\\site-packages\\ipykernel_launcher.py:77: FutureWarning: 'argmax' is deprecated, use 'idxmax' instead. The behavior of 'argmax'\n",
      "will be corrected to return the positional maximum in the future.\n",
      "Use 'series.values.argmax' to get the position of the maximum now.\n"
     ]
    },
    {
     "name": "stdout",
     "output_type": "stream",
     "text": [
      "Training Accuracy: 0.8644272595456742\n",
      "Validation Accuracy: 0.8288201160541586\n"
     ]
    },
    {
     "data": {
      "text/plain": [
       "1"
      ]
     },
     "execution_count": 35,
     "metadata": {},
     "output_type": "execute_result"
    }
   ],
   "source": [
    "rf1,_ = accuracy(spam_tr,'not_ham', RandomForest, 30,20)\n"
   ]
  },
  {
   "cell_type": "code",
   "execution_count": null,
   "metadata": {},
   "outputs": [],
   "source": [
    "y_pred = []\n",
    "for i in range(len(spam_test)):\n",
    "    y_pred.append(rf1.predict(spam_test.iloc[i,:]))\n",
    "y_pred\n",
    "\n",
    "y_pred = np.array(y_pred)"
   ]
  },
  {
   "cell_type": "code",
   "execution_count": 45,
   "metadata": {},
   "outputs": [],
   "source": [
    "# A code snippet to help you save your results into a kaggle accepted csv\n",
    "import pandas as pd\n",
    "import numpy as np\n",
    "\n",
    "# Usage results_to_csv(clf.predict(X_test))\n",
    "def results_to_csv(y_test):\n",
    "    y_test = y_test.astype(int)\n",
    "    df = pd.DataFrame({'Category': y_test})\n",
    "    df.index += 1  # Ensures that the index starts at 1. \n",
    "    df.to_csv('submission2.csv', index_label='Id')"
   ]
  },
  {
   "cell_type": "code",
   "execution_count": 46,
   "metadata": {},
   "outputs": [],
   "source": [
    "results_to_csv(y_pred)"
   ]
  },
  {
   "cell_type": "code",
   "execution_count": 20,
   "metadata": {},
   "outputs": [
    {
     "name": "stdout",
     "output_type": "stream",
     "text": [
      "Training Accuracy: 0.764137264378927\n",
      "Validation Accuracy: 0.7591876208897486\n",
      "Training Accuracy: 0.7834702754954084\n",
      "Validation Accuracy: 0.7640232108317214\n",
      "Training Accuracy: 0.7095215079748671\n",
      "Validation Accuracy: 0.7117988394584139\n",
      "Training Accuracy: 0.7941034316094732\n",
      "Validation Accuracy: 0.8027079303675049\n",
      "Training Accuracy: 0.652005799903335\n",
      "Validation Accuracy: 0.6595744680851063\n",
      "Training Accuracy: 0.7399710004833253\n",
      "Validation Accuracy: 0.7553191489361702\n",
      "Training Accuracy: 0.6959884001933301\n",
      "Validation Accuracy: 0.6750483558994197\n",
      "Training Accuracy: 0.736346060898985\n",
      "Validation Accuracy: 0.7311411992263056\n",
      "Training Accuracy: 0.7938617689705172\n",
      "Validation Accuracy: 0.7727272727272727\n",
      "Training Accuracy: 0.8064282261962301\n",
      "Validation Accuracy: 0.7852998065764023\n",
      "Training Accuracy: 0.7148380860318995\n",
      "Validation Accuracy: 0.6972920696324951\n"
     ]
    },
    {
     "name": "stderr",
     "output_type": "stream",
     "text": [
      "C:\\Users\\zhuwe\\AppData\\Local\\Continuum\\anaconda3\\envs\\tensorflow\\lib\\site-packages\\ipykernel_launcher.py:77: FutureWarning: 'argmax' is deprecated, use 'idxmax' instead. The behavior of 'argmax'\n",
      "will be corrected to return the positional maximum in the future.\n",
      "Use 'series.values.argmax' to get the position of the maximum now.\n"
     ]
    },
    {
     "name": "stdout",
     "output_type": "stream",
     "text": [
      "Training Accuracy: 0.8105364910584824\n",
      "Validation Accuracy: 0.781431334622824\n",
      "Training Accuracy: 0.7344127597873369\n",
      "Validation Accuracy: 0.6818181818181818\n",
      "Training Accuracy: 0.7699371677138714\n",
      "Validation Accuracy: 0.7263056092843327\n",
      "Training Accuracy: 0.8521024649589174\n",
      "Validation Accuracy: 0.8288201160541586\n",
      "Training Accuracy: 0.7368293861768971\n",
      "Validation Accuracy: 0.718568665377176\n",
      "Training Accuracy: 0.8322861285645239\n",
      "Validation Accuracy: 0.8085106382978723\n",
      "Training Accuracy: 0.7467375543740937\n",
      "Validation Accuracy: 0.7040618955512572\n",
      "Training Accuracy: 0.8680521991300145\n",
      "Validation Accuracy: 0.8249516441005803\n",
      "Training Accuracy: 0.7725954567423876\n",
      "Validation Accuracy: 0.7272727272727273\n",
      "Training Accuracy: 0.7825036249395844\n",
      "Validation Accuracy: 0.7475822050290135\n",
      "Training Accuracy: 0.8666022232962783\n",
      "Validation Accuracy: 0.8384912959381045\n",
      "Training Accuracy: 0.804736587723538\n",
      "Validation Accuracy: 0.7427466150870407\n",
      "Training Accuracy: 0.8724021266312229\n",
      "Validation Accuracy: 0.8288201160541586\n",
      "Training Accuracy: 0.873610439826003\n",
      "Validation Accuracy: 0.8326885880077369\n",
      "Training Accuracy: 0.8494441759304011\n",
      "Validation Accuracy: 0.7969052224371374\n",
      "Training Accuracy: 0.8835186080231996\n",
      "Validation Accuracy: 0.8143133462282398\n",
      "Training Accuracy: 0.8798936684388593\n",
      "Validation Accuracy: 0.8500967117988395\n",
      "Training Accuracy: 0.8777187046882552\n",
      "Validation Accuracy: 0.8220502901353965\n",
      "Training Accuracy: 0.8719188013533108\n",
      "Validation Accuracy: 0.809477756286267\n",
      "Training Accuracy: 0.876027066215563\n",
      "Validation Accuracy: 0.816247582205029\n",
      "Training Accuracy: 0.8777187046882552\n",
      "Validation Accuracy: 0.8278529980657641\n",
      "Training Accuracy: 0.8789270178830353\n",
      "Validation Accuracy: 0.8404255319148937\n",
      "Training Accuracy: 0.888593523441276\n",
      "Validation Accuracy: 0.8104448742746615\n",
      "Training Accuracy: 0.8905268245529241\n",
      "Validation Accuracy: 0.7969052224371374\n",
      "Training Accuracy: 0.8115031416143065\n",
      "Validation Accuracy: 0.753384912959381\n",
      "Training Accuracy: 0.890043499275012\n",
      "Validation Accuracy: 0.7959381044487428\n",
      "Training Accuracy: 0.8869018849685839\n",
      "Validation Accuracy: 0.8317214700193424\n",
      "Training Accuracy: 0.8141614306428226\n",
      "Validation Accuracy: 0.7640232108317214\n",
      "Training Accuracy: 0.8905268245529241\n",
      "Validation Accuracy: 0.8133462282398453\n"
     ]
    },
    {
     "ename": "NameError",
     "evalue": "name 'plt' is not defined",
     "output_type": "error",
     "traceback": [
      "\u001b[1;31m---------------------------------------------------------------------------\u001b[0m",
      "\u001b[1;31mNameError\u001b[0m                                 Traceback (most recent call last)",
      "\u001b[1;32m<ipython-input-20-f7457c915234>\u001b[0m in \u001b[0;36m<module>\u001b[1;34m()\u001b[0m\n\u001b[0;32m      3\u001b[0m     \u001b[0mhyperparameter_tune\u001b[0m\u001b[1;33m,\u001b[0m \u001b[0macc\u001b[0m\u001b[1;33m=\u001b[0m\u001b[0maccuracy\u001b[0m\u001b[1;33m(\u001b[0m\u001b[0mspam_train\u001b[0m\u001b[1;33m,\u001b[0m\u001b[1;34m'not_ham'\u001b[0m\u001b[1;33m,\u001b[0m\u001b[0mDecisionTree\u001b[0m\u001b[1;33m,\u001b[0m\u001b[0mc\u001b[0m\u001b[1;33m)\u001b[0m\u001b[1;33m\u001b[0m\u001b[0m\n\u001b[0;32m      4\u001b[0m     \u001b[0maccplot\u001b[0m\u001b[1;33m.\u001b[0m\u001b[0mappend\u001b[0m\u001b[1;33m(\u001b[0m\u001b[0macc\u001b[0m\u001b[1;33m)\u001b[0m\u001b[1;33m\u001b[0m\u001b[0m\n\u001b[1;32m----> 5\u001b[1;33m \u001b[0mplt\u001b[0m\u001b[1;33m.\u001b[0m\u001b[0mplot\u001b[0m\u001b[1;33m(\u001b[0m\u001b[0maccplot\u001b[0m\u001b[1;33m)\u001b[0m\u001b[1;33m\u001b[0m\u001b[0m\n\u001b[0m\u001b[0;32m      6\u001b[0m \u001b[0mplt\u001b[0m\u001b[1;33m.\u001b[0m\u001b[0mxlabel\u001b[0m\u001b[1;33m(\u001b[0m\u001b[1;34m'Depth'\u001b[0m\u001b[1;33m)\u001b[0m\u001b[1;33m\u001b[0m\u001b[0m\n\u001b[0;32m      7\u001b[0m \u001b[0mplt\u001b[0m\u001b[1;33m.\u001b[0m\u001b[0mylabel\u001b[0m\u001b[1;33m(\u001b[0m\u001b[1;34m'Accuracy'\u001b[0m\u001b[1;33m)\u001b[0m\u001b[1;33m\u001b[0m\u001b[0m\n",
      "\u001b[1;31mNameError\u001b[0m: name 'plt' is not defined"
     ]
    }
   ],
   "source": [
    "accplot=[]\n",
    "for c in range(1,41):\n",
    "    hyperparameter_tune, acc=accuracy(spam_train,'not_ham',DecisionTree,c)\n",
    "    accplot.append(acc)  "
   ]
  },
  {
   "cell_type": "code",
   "execution_count": 22,
   "metadata": {},
   "outputs": [
    {
     "data": {
      "text/plain": [
       "Text(0,0.5,'Accuracy')"
      ]
     },
     "execution_count": 22,
     "metadata": {},
     "output_type": "execute_result"
    },
    {
     "data": {
      "image/png": "[encoded data removed]",
      "text/plain": [
       "<Figure size 432x288 with 1 Axes>"
      ]
     },
     "metadata": {},
     "output_type": "display_data"
    }
   ],
   "source": [
    "from matplotlib import pyplot as plt\n",
    "%matplotlib inline\n",
    "plt.plot(accplot)\n",
    "plt.xlabel('Depth')\n",
    "plt.ylabel('Accuracy')"
   ]
  },
  {
   "cell_type": "code",
   "execution_count": 48,
   "metadata": {},
   "outputs": [],
   "source": [
    "dt=DecisionTree()\n",
    "dt.train(spam_train,'not_ham',3)"
   ]
  },
  {
   "cell_type": "code",
   "execution_count": 51,
   "metadata": {},
   "outputs": [
    {
     "name": "stdout",
     "output_type": "stream",
     "text": [
      "('!', 1.0)\n",
      "('meter', 1.0)\n",
      "('meter', 1.0)\n",
      "('(', 1.0)\n",
      "0.0\n",
      "('&', 1.0)\n",
      "0.0\n",
      "0.0\n",
      "0.0\n"
     ]
    }
   ],
   "source": [
    "print(dt.root.status())\n",
    "print(dt.root.left.status())\n",
    "print(dt.root.right.status())\n",
    "print(dt.root.left.left.status())\n",
    "print(dt.root.left.right.status())\n",
    "print(dt.root.right.left.status())\n",
    "print(dt.root.right.right.status())\n",
    "print(dt.root.left.left.left.status())\n",
    "print(dt.root.left.left.right.status())\n"
   ]
  },
  {
   "cell_type": "code",
   "execution_count": null,
   "metadata": {},
   "outputs": [],
   "source": []
  }
 ],
 "metadata": {
  "kernelspec": {
   "display_name": "Python 3",
   "language": "python",
   "name": "python3"
  },
  "language_info": {
   "codemirror_mode": {
    "name": "ipython",
    "version": 3
   },
   "file_extension": ".py",
   "mimetype": "text/x-python",
   "name": "python",
   "nbconvert_exporter": "python",
   "pygments_lexer": "ipython3",
   "version": "3.5.5"
  }
 },
 "nbformat": 4,
 "nbformat_minor": 2
}
